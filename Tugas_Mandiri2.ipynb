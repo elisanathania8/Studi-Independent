{
  "nbformat": 4,
  "nbformat_minor": 0,
  "metadata": {
    "colab": {
      "name": "Tugas Mandiri2.ipynb",
      "provenance": [],
      "collapsed_sections": [],
      "include_colab_link": true
    },
    "kernelspec": {
      "name": "python3",
      "display_name": "Python 3"
    },
    "language_info": {
      "name": "python"
    }
  },
  "cells": [
    {
      "cell_type": "markdown",
      "metadata": {
        "id": "view-in-github",
        "colab_type": "text"
      },
      "source": [
        "<a href=\"https://colab.research.google.com/github/elisanathania8/Studi-Independent/blob/main/Tugas_Mandiri2.ipynb\" target=\"_parent\"><img src=\"https://colab.research.google.com/assets/colab-badge.svg\" alt=\"Open In Colab\"/></a>"
      ]
    },
    {
      "cell_type": "markdown",
      "source": [
        "Nama : Elisa Nathania Halim\n",
        "Universitas : Universitas Buana Perjuangan Karawang\n",
        "Prodi : Sistem Informasi"
      ],
      "metadata": {
        "id": "Nx2n_3zkyMlk"
      }
    },
    {
      "cell_type": "code",
      "source": [
        "#Persegipanjang\n",
        "\n",
        "panjang = input(\"masukkan panjang :\")\n",
        "panjang = int(panjang)\n",
        "lebar = input(\"lebar :\")\n",
        "lebar = int(lebar)\n",
        "luas = panjang*lebar\n",
        "keliling = 2*(panjang + lebar)\n",
        "print(\"Luas {} \\nKeliling : {}\".format(luas,keliling))\n"
      ],
      "metadata": {
        "colab": {
          "base_uri": "https://localhost:8080/"
        },
        "id": "ITZA7oshysQE",
        "outputId": "c02250e0-6f2d-4ae0-c8ca-9ca69d736a7f"
      },
      "execution_count": null,
      "outputs": [
        {
          "output_type": "stream",
          "name": "stdout",
          "text": [
            "masukkan panjang :6\n",
            "lebar :8\n",
            "Luas 48 \n",
            "Keliling : 28\n"
          ]
        }
      ]
    },
    {
      "cell_type": "code",
      "source": [
        "#Persegi\n",
        "\n",
        "sisi = input(\"masukkan sisi : \")\n",
        "sisi = int(sisi)\n",
        "luas = sisi**2\n",
        "keliling = sisi*4\n",
        "print(f\"Luas : {luas} \\nKeliling : {keliling}\")"
      ],
      "metadata": {
        "colab": {
          "base_uri": "https://localhost:8080/"
        },
        "id": "C6P4dFG13oy7",
        "outputId": "305c9de6-9b47-4251-c0c8-0d5b7d2cfc36"
      },
      "execution_count": null,
      "outputs": [
        {
          "output_type": "stream",
          "name": "stdout",
          "text": [
            "masukkan sisi : 12\n",
            "Luas : 144 \n",
            "Keliling : 48\n"
          ]
        }
      ]
    },
    {
      "cell_type": "code",
      "source": [
        "#Kubus\n",
        "\n",
        "rusuk = input(\"masukkan rusuk : \")\n",
        "rusuk = int(rusuk)\n",
        "luas = rusuk*rusuk*6\n",
        "volume = rusuk**3\n",
        "print(f\"Luas : {luas} \\nVolume : {volume}\")"
      ],
      "metadata": {
        "colab": {
          "base_uri": "https://localhost:8080/"
        },
        "id": "f-u7IvHf-CfV",
        "outputId": "5ff7853c-dcbb-4e12-cadb-8b37d3e1cee6"
      },
      "execution_count": null,
      "outputs": [
        {
          "output_type": "stream",
          "name": "stdout",
          "text": [
            "masukkan rusuk : 3\n",
            "Luas : 54 \n",
            "Volume : 27\n"
          ]
        }
      ]
    },
    {
      "cell_type": "code",
      "source": [
        "#segitiga\n",
        "\n",
        "sisi = input(\"masukkan sisi : \")\n",
        "sisi = int(sisi)\n",
        "tinggi = input(\"masukkan tinggi : \")\n",
        "tinggi = int(tinggi)\n",
        "luas = 1/2*sisi*tinggi\n",
        "keliling = sisi**2\n",
        "print(f\"Luas : {luas} \\nKeliling : {keliling}\")"
      ],
      "metadata": {
        "colab": {
          "base_uri": "https://localhost:8080/"
        },
        "id": "hgcWh-BsI0p5",
        "outputId": "9f4b2128-be6a-4429-d97c-c09f79ad1ff7"
      },
      "execution_count": null,
      "outputs": [
        {
          "output_type": "stream",
          "name": "stdout",
          "text": [
            "masukkan sisi : 8\n",
            "masukkan tinggi : 12\n",
            "Luas : 48.0 \n",
            "Keliling : 64\n"
          ]
        }
      ]
    },
    {
      "cell_type": "code",
      "source": [
        "#Belah Ketupat\n",
        "\n",
        "sisi = input(\"masukkan sisi : \")\n",
        "sisi = int(sisi)\n",
        "diagonal1 = input(\"masukkan diagonal1 : \")\n",
        "diagonal1 = int(diagonal1)\n",
        "diagonal2 = input(\"masukkan diagonal2 : \")\n",
        "diagonal2 = int(diagonal2)\n",
        "luas = 1/2*diagonal1*diagonal2\n",
        "keliling = sisi*4\n",
        "print(f\"Luas : {luas} \\nKeliling : {keliling}\")"
      ],
      "metadata": {
        "colab": {
          "base_uri": "https://localhost:8080/"
        },
        "id": "dLTebLNnI2JO",
        "outputId": "dbbe1e83-54de-4b36-b7c2-9a4c7e1361c6"
      },
      "execution_count": null,
      "outputs": [
        {
          "output_type": "stream",
          "name": "stdout",
          "text": [
            "masukkan sisi : 12\n",
            "masukkan diagonal1 : 7\n",
            "masukkan diagonal2 : 4\n",
            "Luas : 14.0 \n",
            "Keliling : 48\n"
          ]
        }
      ]
    },
    {
      "cell_type": "code",
      "source": [
        "#Layang-Layang\n",
        "\n",
        "sisi = input(\"masukkan sisi : \")\n",
        "sisi = int(sisi)\n",
        "diagonal1 = input(\"masukkan diagonal1 : \")\n",
        "diagonal1 = int(diagonal1)\n",
        "diagonal2 = input(\"masukkan diagonal2 : \")\n",
        "diagonal2 = int(diagonal2)\n",
        "luas = 1/2*diagonal1*diagonal2\n",
        "keliling = 2*(sisi+sisi)\n",
        "print(f\"Luas : {luas} \\nKeliling : {keliling}\")"
      ],
      "metadata": {
        "colab": {
          "base_uri": "https://localhost:8080/"
        },
        "id": "2ceK9NFqKHMD",
        "outputId": "a1f72d3e-f8fd-4d1a-cec4-ca82c2003b68"
      },
      "execution_count": null,
      "outputs": [
        {
          "output_type": "stream",
          "name": "stdout",
          "text": [
            "masukkan sisi : 24\n",
            "masukkan diagonal1 : 8\n",
            "masukkan diagonal2 : 22\n",
            "Luas : 88.0 \n",
            "Keliling : 96\n"
          ]
        }
      ]
    },
    {
      "cell_type": "code",
      "source": [
        "#Jajar Genjang\n",
        "\n",
        "alas = input(\"masukkan alas : \")\n",
        "alas =int(alas)\n",
        "sisi_miring =input(\"masukkan sisi_miring : \")\n",
        "sisi_miring =int(sisi_miring)\n",
        "tinggi = input(\"masukkan tinggi : \")\n",
        "tinggi = int(tinggi)\n",
        "luas = alas*tinggi\n",
        "keliling = 2*(alas+sisi_miring)\n",
        "print(f\"Luas : {luas} \\nKeliling : {keliling}\")"
      ],
      "metadata": {
        "colab": {
          "base_uri": "https://localhost:8080/"
        },
        "id": "YyXCVtMXKjJT",
        "outputId": "78497243-6fe8-4bc9-8101-6b34f299dfe5"
      },
      "execution_count": null,
      "outputs": [
        {
          "output_type": "stream",
          "name": "stdout",
          "text": [
            "masukkan alas : 41\n",
            "masukkan sisi_miring : 56\n",
            "masukkan tinggi : 12\n",
            "Luas : 492 \n",
            "Keliling : 194\n"
          ]
        }
      ]
    },
    {
      "cell_type": "code",
      "source": [
        "#Trapesium\n",
        "\n",
        "sisi_sejajar = input(\"masukkan sisi_sejajar : \")\n",
        "sisi_sejajar = int(sisi_sejajar)\n",
        "sisi_miring = input(\"masukkan sisi_miring : \")\n",
        "sisi_miring = int(sisi_miring)\n",
        "tinggi = input(\"masukkan tinggi : \")\n",
        "tinggi = int(tinggi)\n",
        "luas = 1/2*(sisi_sejajar+sisi_sejajar)*tinggi\n",
        "keliling = sisi_sejajar+sisi_sejajar+sisi_miring+sisi_miring\n",
        "print(f\"Luas : {luas} \\nKeliling : {keliling}\")"
      ],
      "metadata": {
        "colab": {
          "base_uri": "https://localhost:8080/"
        },
        "id": "55HugAyCLnEs",
        "outputId": "da14fd42-a2ba-4014-97fe-418de6e38223"
      },
      "execution_count": null,
      "outputs": [
        {
          "output_type": "stream",
          "name": "stdout",
          "text": [
            "masukkan sisi_sejajar : 35\n",
            "masukkan sisi_miring : 27\n",
            "masukkan tinggi : 13\n",
            "Luas : 455.0 \n",
            "Keliling : 124\n"
          ]
        }
      ]
    },
    {
      "cell_type": "code",
      "source": [
        "#Lingkaran\n",
        "\n",
        "jari_jari = input(\"masukkan jari_jari : \")\n",
        "jari_jari = int(jari_jari)\n",
        "phi = input(\"masukkan phi : \")\n",
        "phi = float(phi)\n",
        "luas = phi*jari_jari**2\n",
        "keliling =2*phi*jari_jari\n",
        "print(f\"Luas : {luas} \\nKeliling : {keliling}\")"
      ],
      "metadata": {
        "colab": {
          "base_uri": "https://localhost:8080/"
        },
        "id": "QmyHd9WbNN68",
        "outputId": "3e5c7a67-f3e8-428f-e6eb-694cdcd4a713"
      },
      "execution_count": null,
      "outputs": [
        {
          "output_type": "stream",
          "name": "stdout",
          "text": [
            "masukkan jari_jari : 24\n",
            "masukkan phi : 3.14\n",
            "Luas : 1808.64 \n",
            "Keliling : 150.72\n"
          ]
        }
      ]
    },
    {
      "cell_type": "code",
      "source": [
        "#Balok\n",
        "\n",
        "panjang = input(\"masukkan panjang : \")\n",
        "panjang = int(panjang)\n",
        "lebar = input(\"masukkan lebar : \")\n",
        "lebar = int(lebar)\n",
        "tinggi = input(\"masukkan tinggi : \")\n",
        "tinggi = int(tinggi)\n",
        "luas = 2*(panjang*lebar + panjang*tinggi + lebar+tinggi)\n",
        "volume = panjang*lebar*tinggi\n",
        "print(f\"Luas : {luas} \\nVolume : {volume}\")             "
      ],
      "metadata": {
        "colab": {
          "base_uri": "https://localhost:8080/"
        },
        "id": "moUzdQu1OWWL",
        "outputId": "97c20423-ef3d-41f5-840d-4e3011d95471"
      },
      "execution_count": null,
      "outputs": [
        {
          "output_type": "stream",
          "name": "stdout",
          "text": [
            "masukkan panjang : 23\n",
            "masukkan lebar : 123\n",
            "masukkan tinggi : 43\n",
            "Luas : 7968 \n",
            "Volume : 121647\n"
          ]
        }
      ]
    },
    {
      "cell_type": "code",
      "source": [
        "#Tabung\n",
        "\n",
        "phi = input(\"masukkan phi : \")\n",
        "phi = float(phi)\n",
        "jari_jari = input(\"masukkan jari_jari : \")\n",
        "jari_jari = int(jari_jari)\n",
        "tinggi = input(\"masukkan tinggi : \")\n",
        "tinggi = int(tinggi)\n",
        "luas = 2*phi*jari_jari*(tinggi+jari_jari)\n",
        "volume = phi*jari_jari**2*tinggi\n",
        "print(f\"Luas : {luas} \\nVolume : {volume}\")"
      ],
      "metadata": {
        "colab": {
          "base_uri": "https://localhost:8080/"
        },
        "id": "DGt9cYrGPbdy",
        "outputId": "6ad460c3-125e-4a57-e0f0-572e4ca3e939"
      },
      "execution_count": null,
      "outputs": [
        {
          "output_type": "stream",
          "name": "stdout",
          "text": [
            "masukkan phi : 3.14\n",
            "masukkan jari_jari : 9\n",
            "masukkan tinggi : 27\n",
            "Luas : 2034.72 \n",
            "Volume : 6867.18\n"
          ]
        }
      ]
    },
    {
      "cell_type": "code",
      "source": [
        "#Prisma\n",
        "\n",
        "alas = input(\"masukkan alas : \")\n",
        "alas = int(alas)\n",
        "luas_alas = input(\"masukkan luas_alas : \")\n",
        "luas_alas = int(luas_alas)\n",
        "keliling_alas = input(\"masukkan keliling_alas : \")\n",
        "keliling_alas = int(keliling_alas)\n",
        "tinggi = input(\"masukkan tinggi : \")\n",
        "tinggi = int(tinggi)\n",
        "luas =  2*luas_alas*keliling_alas*tinggi\n",
        "volume = luas_alas*tinggi\n",
        "print(f\"Luas : {luas_alas} \\nVolume : {volume}\")"
      ],
      "metadata": {
        "colab": {
          "base_uri": "https://localhost:8080/"
        },
        "id": "IfjLXZtXRDvX",
        "outputId": "392ddc9a-9361-4ef7-c913-a97ccec0d753"
      },
      "execution_count": null,
      "outputs": [
        {
          "output_type": "stream",
          "name": "stdout",
          "text": [
            "masukkan alas : 2\n",
            "masukkan luas_alas : 5\n",
            "masukkan keliling_alas : 4\n",
            "masukkan tinggi : 8\n",
            "Luas : 5 \n",
            "Volume : 40\n"
          ]
        }
      ]
    },
    {
      "cell_type": "code",
      "source": [
        "#Limas\n",
        "\n",
        "alas = input(\"masukkan alas : \")\n",
        "alas = int(alas)\n",
        "luas_alas = input(\"masukkan luas_alas : \")\n",
        "luas_alas = int(luas_alas)\n",
        "tinggi = input(\"masukkan tinggi : \")\n",
        "tinggi = int(tinggi)\n",
        "luas = luas_alas*tinggi\n",
        "volume = 1/2*luas_alas*tinggi\n",
        "print(f\"Luas : {luas_alas} \\nVolume : {volume}\")"
      ],
      "metadata": {
        "colab": {
          "base_uri": "https://localhost:8080/"
        },
        "id": "kzzsQR3ES0Mr",
        "outputId": "d103a412-8546-4ec8-d662-3006af4a36ac"
      },
      "execution_count": null,
      "outputs": [
        {
          "output_type": "stream",
          "name": "stdout",
          "text": [
            "masukkan alas : 3\n",
            "masukkan luas_alas : 4\n",
            "masukkan tinggi : 5\n",
            "Luas : 4 \n",
            "Volume : 10.0\n"
          ]
        }
      ]
    },
    {
      "cell_type": "code",
      "source": [
        "#kerucut8\n",
        "import math\n",
        "\n",
        "tinggi=int(input(\"Masukan Tinggi : \"))\n",
        "jari=int(input(\"Masukan Jari-jari Lingkarang : \"))\n",
        "\n",
        "phi=22/7\n",
        "\n",
        "pelukis=math.sqrt((jari*jari)+(tinggi*tinggi))\n",
        "\n",
        "luas=int(phi*jari*(jari+pelukis))\n",
        "volume=int((1/3)*phi*(jari*jari)*tinggi)\n",
        "\n",
        "print (\"Luas Kerucut = \", luas)\n",
        "print (\"Volume Kerucut = \", volume)"
      ],
      "metadata": {
        "colab": {
          "base_uri": "https://localhost:8080/"
        },
        "id": "hinxv17NVz64",
        "outputId": "73ed5bda-7682-4e2f-9a2a-d17fc4d630cc"
      },
      "execution_count": null,
      "outputs": [
        {
          "output_type": "stream",
          "name": "stdout",
          "text": [
            "Masukan Tinggi : 6\n",
            "Masukan Jari-jari Lingkarang : 9\n",
            "Luas Kerucut =  560\n",
            "Volume Kerucut =  509\n"
          ]
        }
      ]
    },
    {
      "cell_type": "code",
      "source": [
        "7#Bola\n",
        "\n",
        "phi = input(\"masukkan phi : \")\n",
        "phi = float(phi)\n",
        "jari_jari = input(\"masukkan jari_jari : \")\n",
        "jari_jari = int(jari_jari)\n",
        "luas = 4*phi*jari_jari**2\n",
        "volume = 4/3*phi*jari_jari**3\n",
        "print(\"Luas {} \\nVolume : {}\".format(luas,volume))"
      ],
      "metadata": {
        "colab": {
          "base_uri": "https://localhost:8080/"
        },
        "id": "FfNLHY0CX85A",
        "outputId": "9f9915a1-5d61-44b6-a894-dadaba218993"
      },
      "execution_count": null,
      "outputs": [
        {
          "output_type": "stream",
          "name": "stdout",
          "text": [
            "masukkan phi : 6\n",
            "masukkan jari_jari : 9\n",
            "Luas 1944.0 \n",
            "Volume : 5832.0\n"
          ]
        }
      ]
    },
    {
      "cell_type": "code",
      "source": [
        ""
      ],
      "metadata": {
        "id": "YjHATf8vaykk"
      },
      "execution_count": null,
      "outputs": []
    }
  ]
}