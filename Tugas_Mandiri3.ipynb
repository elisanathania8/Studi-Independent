{
  "nbformat": 4,
  "nbformat_minor": 0,
  "metadata": {
    "colab": {
      "name": "Tugas Mandiri3.ipynb",
      "provenance": [],
      "collapsed_sections": [],
      "authorship_tag": "ABX9TyOgxUEGvs/xqh/BdwMtYksH",
      "include_colab_link": true
    },
    "kernelspec": {
      "name": "python3",
      "display_name": "Python 3"
    },
    "language_info": {
      "name": "python"
    }
  },
  "cells": [
    {
      "cell_type": "markdown",
      "metadata": {
        "id": "view-in-github",
        "colab_type": "text"
      },
      "source": [
        "<a href=\"https://colab.research.google.com/github/elisanathania8/Studi-Independent/blob/main/Tugas_Mandiri3.ipynb\" target=\"_parent\"><img src=\"https://colab.research.google.com/assets/colab-badge.svg\" alt=\"Open In Colab\"/></a>"
      ]
    },
    {
      "cell_type": "markdown",
      "source": [
        "Nama : Elisa Nathania Halim,\n",
        "Prodi : Sistem Informasi,\n",
        "Universitas : Universitas Buana Perjuangan Karawang"
      ],
      "metadata": {
        "id": "WUY5AW6GjYgj"
      }
    },
    {
      "cell_type": "code",
      "source": [
        "#nomer 1\n",
        "#Data\n",
        "\n",
        "data = {'NIK':1990022, \n",
        "        'nama':'Herman',\n",
        "        'Jenis_Kelamin':'L', \n",
        "        'Alamat' : 'Tanggerang',\n",
        "        'Divisi' : 'Machinery', \n",
        "        'Jabatan' : 'Manager', \n",
        "        'Gaji_Pokok' :'10.000.000'}\n",
        "print(data)\n",
        "\n",
        "data = {'NIK' : 2001077,\n",
        "        'nama': 'Badar',\n",
        "        'Jenis_Kelamin' : 'L',\n",
        "        'Alamat' : 'Bekasi',\n",
        "        'Divisi' : 'Machinery',\n",
        "        'Jabatan' : 'Staff',\n",
        "        'Gaji_Pokok' : '7.500.000'}\n",
        "print(data)\n",
        "\n",
        "data = {'NIK' : 2002019,\n",
        "        'nama': 'Clara',\n",
        "        'Jenis_Kelamin' : 'P',\n",
        "        'Alamat' : 'Depok',\n",
        "        'Divisi' : 'Compressor',\n",
        "        'Jabatan' : 'Staff',\n",
        "        'Gaji_Pokok' : '7.000.000'}\n",
        "print(data)\n",
        "\n",
        "data = {'NIK' : 2002081,\n",
        "        'nama': 'Rista',\n",
        "        'Jenis_Kelamin' : 'P',\n",
        "        'Alamat' : 'Bogor',\n",
        "        'Divisi' : 'QC',\n",
        "        'Jabatan' : 'Staff',\n",
        "        'Gaji_Pokok' : '6.500.000'}\n",
        "print(data)\n",
        "\n",
        "data = {'NIK' : 2005099,\n",
        "        'nama': 'Riani',\n",
        "        'Jenis_Kelamin' : 'P',\n",
        "        'Alamat' : 'Bekasi',\n",
        "        'Divisi' : 'QC',\n",
        "        'Jabatan' : 'Operator',\n",
        "        'Gaji_Pokok' : '6.000.000'}\n",
        "print(data)        \n",
        "\n",
        "data = {'NIK' : 2006003,\n",
        "        'nama': 'Afif',\n",
        "        'Jenis_Kelamin' : 'L',\n",
        "        'Alamat' : 'Karawang',\n",
        "        'Divisi' : 'Compressor',\n",
        "        'Jabatan' : 'Operator',\n",
        "        'Gaji_Pokok' : '5.500.000'}\n",
        "print(data)\n",
        "\n",
        "data = {'NIK' : 2006104,\n",
        "        'nama': 'Riven',\n",
        "        'Jenis_Kelamin' : 'L',\n",
        "        'Alamat' : 'Tanggerang',\n",
        "        'Divisi' : 'Compressor',\n",
        "        'Jabatan' : 'Operator',\n",
        "        'Gaji_Pokok' : '5.500.000'}\n",
        "print(data)\n",
        "\n",
        "data = {'NIK' : 2008160,\n",
        "        'nama': 'Endah',\n",
        "        'Jenis_Kelamin' : 'P',\n",
        "        'Alamat' : 'Jakarta',\n",
        "        'Divisi' : 'Machinery',\n",
        "        'Jabatan' : 'Operator',\n",
        "        'Gaji_Pokok' : '5.000.000'}\n",
        "print(data)"
      ],
      "metadata": {
        "colab": {
          "base_uri": "https://localhost:8080/"
        },
        "id": "aGXvrCkolO41",
        "outputId": "8b5f582f-7a03-4a1a-bf9c-b7dc6a1b1921"
      },
      "execution_count": null,
      "outputs": [
        {
          "output_type": "stream",
          "name": "stdout",
          "text": [
            "{'NIK': 1990022, 'nama': 'Herman', 'Jenis_Kelamin': 'L', 'Alamat': 'Tanggerang', 'Divisi': 'Machinery', 'Jabatan': 'Manager', 'Gaji_Pokok': '10.000.000'}\n",
            "{'NIK': 2001077, 'nama': 'Badar', 'Jenis_Kelamin': 'L', 'Alamat': 'Bekasi', 'Divisi': 'Machinery', 'Jabatan': 'Staff', 'Gaji_Pokok': '7.500.000'}\n",
            "{'NIK': 2002019, 'nama': 'Clara', 'Jenis_Kelamin': 'P', 'Alamat': 'Depok', 'Divisi': 'Compressor', 'Jabatan': 'Staff', 'Gaji_Pokok': '7.000.000'}\n",
            "{'NIK': 2002081, 'nama': 'Rista', 'Jenis_Kelamin': 'P', 'Alamat': 'Bogor', 'Divisi': 'QC', 'Jabatan': 'Staff', 'Gaji_Pokok': '6.500.000'}\n",
            "{'NIK': 2005099, 'nama': 'Riani', 'Jenis_Kelamin': 'P', 'Alamat': 'Bekasi', 'Divisi': 'QC', 'Jabatan': 'Operator', 'Gaji_Pokok': '6.000.000'}\n",
            "{'NIK': 2006003, 'nama': 'Afif', 'Jenis_Kelamin': 'L', 'Alamat': 'Karawang', 'Divisi': 'Compressor', 'Jabatan': 'Operator', 'Gaji_Pokok': '5.500.000'}\n",
            "{'NIK': 2006104, 'nama': 'Riven', 'Jenis_Kelamin': 'L', 'Alamat': 'Tanggerang', 'Divisi': 'Compressor', 'Jabatan': 'Operator', 'Gaji_Pokok': '5.500.000'}\n",
            "{'NIK': 2008160, 'nama': 'Endah', 'Jenis_Kelamin': 'P', 'Alamat': 'Jakarta', 'Divisi': 'Machinery', 'Jabatan': 'Operator', 'Gaji_Pokok': '5.000.000'}\n"
          ]
        }
      ]
    },
    {
      "cell_type": "code",
      "source": [
        "import numpy as np"
      ],
      "metadata": {
        "id": "5LpnR22Pqq_s"
      },
      "execution_count": null,
      "outputs": []
    },
    {
      "cell_type": "code",
      "source": [
        "#nomer 2\n",
        "a = np.array([[1,2],\n",
        "              [4,5],\n",
        "              [7,8]])\n",
        "print(a, '\\n')\n",
        "print(a[2:, :2])"
      ],
      "metadata": {
        "id": "xq7IWbEyAo6V",
        "colab": {
          "base_uri": "https://localhost:8080/"
        },
        "outputId": "cd4b7b54-7095-4c08-efc9-66661e92b3fe"
      },
      "execution_count": null,
      "outputs": [
        {
          "output_type": "stream",
          "name": "stdout",
          "text": [
            "[[1 2]\n",
            " [4 5]\n",
            " [7 8]] \n",
            "\n",
            "[[7 8]]\n"
          ]
        }
      ]
    },
    {
      "cell_type": "code",
      "source": [
        "#nomer3\n",
        "a = np.array([[1,6,9],\n",
        "              [2,5,8]])\n",
        "print(a, '\\n')\n",
        "print(a[:2, 1:2], '\\n')\n"
      ],
      "metadata": {
        "colab": {
          "base_uri": "https://localhost:8080/"
        },
        "id": "xD1GDbOYshYz",
        "outputId": "eee648e2-51b4-4e60-b7c9-6ece3732ce3f"
      },
      "execution_count": null,
      "outputs": [
        {
          "output_type": "stream",
          "name": "stdout",
          "text": [
            "[[1 6 9]\n",
            " [2 5 8]] \n",
            "\n",
            "[[6]\n",
            " [5]] \n",
            "\n"
          ]
        }
      ]
    },
    {
      "cell_type": "code",
      "source": [
        "#nomer 4\n",
        "a = np.array([[4,3,8],\n",
        "              [7,2,5],\n",
        "              [6,1,9]])\n",
        "print(a, '\\n')\n",
        "print(a[1:,1:2])"
      ],
      "metadata": {
        "colab": {
          "base_uri": "https://localhost:8080/"
        },
        "id": "i2BsfTuzxn-Z",
        "outputId": "098abeb0-c361-47a0-c407-86a10b67f53d"
      },
      "execution_count": null,
      "outputs": [
        {
          "output_type": "stream",
          "name": "stdout",
          "text": [
            "[[4 3 8]\n",
            " [7 2 5]\n",
            " [6 1 9]] \n",
            "\n",
            "[[2]\n",
            " [1]]\n"
          ]
        }
      ]
    },
    {
      "cell_type": "code",
      "source": [
        "b = np.array([[4,3,8],\n",
        "              [7,2,5],\n",
        "              [6,1,9]])\n",
        "print(b, '\\n')\n",
        "print(b[:1, 1:])"
      ],
      "metadata": {
        "colab": {
          "base_uri": "https://localhost:8080/"
        },
        "id": "KAvuCZkuyPwf",
        "outputId": "528393ae-ded1-443c-c99b-9d589394ac4d"
      },
      "execution_count": null,
      "outputs": [
        {
          "output_type": "stream",
          "name": "stdout",
          "text": [
            "[[4 3 8]\n",
            " [7 2 5]\n",
            " [6 1 9]] \n",
            "\n",
            "[[3 8]]\n"
          ]
        }
      ]
    },
    {
      "cell_type": "code",
      "source": [
        "#nomer 5\n",
        "\n",
        "a = np.array([[23,35,93,87],\n",
        "              [92,44,11,83],\n",
        "              [40,12,46,28],\n",
        "              [73,67,65,32]])\n",
        "print(a, '\\n')\n",
        "print(a[1:2,1:])"
      ],
      "metadata": {
        "colab": {
          "base_uri": "https://localhost:8080/"
        },
        "id": "wSC4fN0zzBog",
        "outputId": "995b6ffd-c569-4a59-da9d-b2a4a5e951f3"
      },
      "execution_count": null,
      "outputs": [
        {
          "output_type": "stream",
          "name": "stdout",
          "text": [
            "[[23 35 93 87]\n",
            " [92 44 11 83]\n",
            " [40 12 46 28]\n",
            " [73 67 65 32]] \n",
            "\n",
            "[[44 11 83]]\n"
          ]
        }
      ]
    },
    {
      "cell_type": "code",
      "source": [
        "b = np.array([[23,35,93,87],\n",
        "              [92,44,11,83],\n",
        "              [40,12,46,28],\n",
        "              [73,67,65,32]])\n",
        "print(b, '\\n')\n",
        "print(b[2:4,1:3])"
      ],
      "metadata": {
        "colab": {
          "base_uri": "https://localhost:8080/"
        },
        "id": "x1AwKrTKz7Qz",
        "outputId": "c3e8c143-32bf-40ce-c910-ed472d21f04b"
      },
      "execution_count": null,
      "outputs": [
        {
          "output_type": "stream",
          "name": "stdout",
          "text": [
            "[[23 35 93 87]\n",
            " [92 44 11 83]\n",
            " [40 12 46 28]\n",
            " [73 67 65 32]] \n",
            "\n",
            "[[12 46]\n",
            " [67 65]]\n"
          ]
        }
      ]
    },
    {
      "cell_type": "code",
      "source": [
        "c = np.array([[23,35,93,87],\n",
        "              [92,44,11,83],\n",
        "              [40,12,46,28],\n",
        "              [73,67,65,32]])\n",
        "print(c, '\\n')\n",
        "print(c[1:4,1:])"
      ],
      "metadata": {
        "colab": {
          "base_uri": "https://localhost:8080/"
        },
        "id": "872oKRkp1sgl",
        "outputId": "90ec01f9-e4e6-46d1-acc6-c03036aebf46"
      },
      "execution_count": null,
      "outputs": [
        {
          "output_type": "stream",
          "name": "stdout",
          "text": [
            "[[23 35 93 87]\n",
            " [92 44 11 83]\n",
            " [40 12 46 28]\n",
            " [73 67 65 32]] \n",
            "\n",
            "[[44 11 83]\n",
            " [12 46 28]\n",
            " [67 65 32]]\n"
          ]
        }
      ]
    },
    {
      "cell_type": "code",
      "source": [
        "d = np.array([[23,35,93,87],\n",
        "              [92,44,11,83],\n",
        "              [40,12,46,28],\n",
        "              [73,67,65,32]])\n",
        "print(d, '\\n')\n",
        "print(d[1:3,:2])"
      ],
      "metadata": {
        "colab": {
          "base_uri": "https://localhost:8080/"
        },
        "id": "LJwKlGYj4JYu",
        "outputId": "df44744b-010b-4cf2-f6e9-179a226e05b4"
      },
      "execution_count": null,
      "outputs": [
        {
          "output_type": "stream",
          "name": "stdout",
          "text": [
            "[[23 35 93 87]\n",
            " [92 44 11 83]\n",
            " [40 12 46 28]\n",
            " [73 67 65 32]] \n",
            "\n",
            "[[92 44]\n",
            " [40 12]]\n"
          ]
        }
      ]
    },
    {
      "cell_type": "code",
      "source": [
        "e = np.array([[23,35,93,87],\n",
        "              [92,44,11,83],\n",
        "              [40,12,46,28],\n",
        "              [73,67,65,32]])\n",
        "print(e, '\\n')\n",
        "print(e[:2,:3])"
      ],
      "metadata": {
        "colab": {
          "base_uri": "https://localhost:8080/"
        },
        "id": "1o6SrP055qQm",
        "outputId": "27bfce7b-b516-4a77-a8ea-a71c36ddfa4b"
      },
      "execution_count": null,
      "outputs": [
        {
          "output_type": "stream",
          "name": "stdout",
          "text": [
            "[[23 35 93 87]\n",
            " [92 44 11 83]\n",
            " [40 12 46 28]\n",
            " [73 67 65 32]] \n",
            "\n",
            "[[23 35 93]\n",
            " [92 44 11]]\n"
          ]
        }
      ]
    },
    {
      "cell_type": "code",
      "source": [
        "f = np.array([[23,35,93,87],\n",
        "              [92,44,11,83],\n",
        "              [40,12,46,28],\n",
        "              [73,67,65,32]])\n",
        "print(f, '\\n')\n",
        "print(f[1:,1:2])"
      ],
      "metadata": {
        "colab": {
          "base_uri": "https://localhost:8080/"
        },
        "id": "aL3b5yNN6Cwf",
        "outputId": "17c7b0e3-7150-48ff-a350-ff292a4c7a6e"
      },
      "execution_count": null,
      "outputs": [
        {
          "output_type": "stream",
          "name": "stdout",
          "text": [
            "[[23 35 93 87]\n",
            " [92 44 11 83]\n",
            " [40 12 46 28]\n",
            " [73 67 65 32]] \n",
            "\n",
            "[[44]\n",
            " [12]\n",
            " [67]]\n"
          ]
        }
      ]
    },
    {
      "cell_type": "code",
      "source": [
        ""
      ],
      "metadata": {
        "id": "SbpjqgAZ7So5"
      },
      "execution_count": null,
      "outputs": []
    }
  ]
}